{
 "cells": [
  {
   "cell_type": "markdown",
   "metadata": {},
   "source": [
    "# Lab #6\n",
    "\n",
    "__TODO:__\n",
    "1. Постройте список уникальных типов самолетов зарегистрированных в России\n",
    "2. Какой тип самолета имеет самую раннюю дату выдачи сертификата?\n",
    "3. Постройте запрос: Владелец аэропорта, Аэропорт, Пассажиропоток суммарный за 2018 год, Грузопоток суммарный за 2018 год\n",
    "4. Перечислите аэропорты, где пассажиропоток меньше медианы, а  грузопоток больше медианы\n",
    "5. Перечислите авиакомпании у которых нет типов воздушных судов зарегистрированных в России\n",
    "6. Выведите список: Месяц, суммарный пассажиропоток за данный месяц, аэропорт в котором пассажиропоток в данном месяце максимальный\n",
    "7. Выведите список: Тип аэропорта, средний грузопоток в месяц в аэропортах данного типа\n",
    "\n",
    "__NOTE:__ Везде где не указан конкретный временной промежуток или другим образом не указано время был взят 2018 год (последний год достпуный в даных)"
   ]
  },
  {
   "cell_type": "code",
   "execution_count": 240,
   "metadata": {},
   "outputs": [],
   "source": [
    "import pandas as pd\n",
    "from itertools import chain"
   ]
  },
  {
   "cell_type": "code",
   "execution_count": 241,
   "metadata": {},
   "outputs": [],
   "source": [
    "aircraft_data = pd.read_csv('https://raw.githubusercontent.com/sudakov/lab_it/master/aircraft.csv',\n",
    "                            sep=';', date_parser=[-1])"
   ]
  },
  {
   "cell_type": "code",
   "execution_count": 242,
   "metadata": {},
   "outputs": [],
   "source": [
    "airlines_data = pd.read_csv('https://raw.githubusercontent.com/sudakov/lab_it/master/airlines.csv', \n",
    "                            names=['Название_короткое', \"Название_полное\", \"Аэропорт\", \"Флотилия\"])"
   ]
  },
  {
   "cell_type": "code",
   "execution_count": 243,
   "metadata": {},
   "outputs": [],
   "source": [
    "airports_data = pd.read_csv('https://raw.githubusercontent.com/sudakov/lab_it/master/airports.csv', \n",
    "                            names=['Аэропорт', 'Сертификат', \"Владелец\", \"Тип\"])"
   ]
  },
  {
   "cell_type": "code",
   "execution_count": 244,
   "metadata": {},
   "outputs": [],
   "source": [
    "cargo_data = pd.read_csv('https://raw.githubusercontent.com/sudakov/lab_it/master/cargo%20transportation.csv', \n",
    "                         sep=';', na_values='***', dtype='str')"
   ]
  },
  {
   "cell_type": "code",
   "execution_count": 245,
   "metadata": {},
   "outputs": [],
   "source": [
    "passenger_data = pd.read_csv('https://raw.githubusercontent.com/sudakov/lab_it/master/passenger%20'\\\n",
    "                             'transportation.csv', sep=';', na_values='***', dtype='str') "
   ]
  },
  {
   "cell_type": "markdown",
   "metadata": {},
   "source": [
    "---"
   ]
  },
  {
   "cell_type": "markdown",
   "metadata": {},
   "source": [
    "## T1\n",
    "\n",
    "Постройте список уникальных типов самолетов зарегистрированных в России"
   ]
  },
  {
   "cell_type": "code",
   "execution_count": 246,
   "metadata": {},
   "outputs": [
    {
     "data": {
      "text/plain": [
       "array(['Птенец-2', 'С-2 Елочка', 'Небесный', ..., 'Ил-96-300ПУ(М1)',\n",
       "       'Ил-96-400Т/IL96-400T', 'Ил-96-400 ВПУ'], dtype=object)"
      ]
     },
     "execution_count": 246,
     "metadata": {},
     "output_type": "execute_result"
    }
   ],
   "source": [
    "aircraft_data[(aircraft_data['Вид воздушного судна'] == 'самолет') &\n",
    "              (aircraft_data['Опознавательные знаки'].str.startswith('RA'))]\\\n",
    "                ['Тип (наименование) воздушного судна'].unique()"
   ]
  },
  {
   "cell_type": "markdown",
   "metadata": {},
   "source": [
    "## T2\n",
    "\n",
    "Какой тип самолета имеет самую раннюю дату выдачи сертификата?"
   ]
  },
  {
   "cell_type": "code",
   "execution_count": 247,
   "metadata": {},
   "outputs": [
    {
     "data": {
      "text/plain": [
       "1107    Ан-2\n",
       "Name: Тип (наименование) воздушного судна, dtype: object"
      ]
     },
     "execution_count": 247,
     "metadata": {},
     "output_type": "execute_result"
    }
   ],
   "source": [
    "aircraft_data[aircraft_data['дата действующего свидетельства о регистрации'] ==\n",
    "              aircraft_data['дата действующего свидетельства о регистрации'].min()]\\\n",
    "                ['Тип (наименование) воздушного судна']"
   ]
  },
  {
   "cell_type": "markdown",
   "metadata": {},
   "source": [
    "## T3\n",
    "\n",
    "Постройте запрос: Владелец аэропорта, Аэропорт, Пассажиропоток суммарный за 2018 год, Грузопоток суммарный за 2018 год"
   ]
  },
  {
   "cell_type": "markdown",
   "metadata": {},
   "source": [
    "### airports_data preparation"
   ]
  },
  {
   "cell_type": "code",
   "execution_count": 248,
   "metadata": {},
   "outputs": [],
   "source": [
    "airports_data['Наименование аэропорта РФ'] =\\\n",
    "    airports_data['Аэропорт'].astype('str').apply(lambda x: x.strip().split()[0])"
   ]
  },
  {
   "cell_type": "markdown",
   "metadata": {},
   "source": [
    "### passenger_data preparation"
   ]
  },
  {
   "cell_type": "code",
   "execution_count": 249,
   "metadata": {},
   "outputs": [],
   "source": [
    "passenger_data.drop(columns=['Январь - Декабрь'], inplace=True)\n",
    "passenger_data.fillna(0, inplace=True)"
   ]
  },
  {
   "cell_type": "code",
   "execution_count": 250,
   "metadata": {},
   "outputs": [],
   "source": [
    "for column in passenger_data.columns[1:]:\n",
    "    passenger_data[column] = passenger_data[column].astype('str').apply(lambda x: int(x.replace(' ', '')))"
   ]
  },
  {
   "cell_type": "code",
   "execution_count": 251,
   "metadata": {},
   "outputs": [],
   "source": [
    "passenger_data['Суммарный пасажиропоток'] = passenger_data.iloc[:, 2:].sum(axis=1).copy()"
   ]
  },
  {
   "cell_type": "markdown",
   "metadata": {},
   "source": [
    "### cargo_data preparation"
   ]
  },
  {
   "cell_type": "code",
   "execution_count": 252,
   "metadata": {},
   "outputs": [],
   "source": [
    "cargo_data['Год периода данных'] = cargo_data['Год периода данных'].apply(lambda x: int(x.replace(' ', '')))"
   ]
  },
  {
   "cell_type": "code",
   "execution_count": 253,
   "metadata": {},
   "outputs": [],
   "source": [
    "cargo_data.drop(columns=['Январь - Декабрь'], inplace=True)\n",
    "cargo_data.fillna(0, inplace=True)"
   ]
  },
  {
   "cell_type": "code",
   "execution_count": 254,
   "metadata": {},
   "outputs": [],
   "source": [
    "for column in cargo_data.columns[2:]:\n",
    "    cargo_data[column] = cargo_data[column].astype('str').apply(lambda x: float(x.replace(',', '.').replace(' ', '')))"
   ]
  },
  {
   "cell_type": "code",
   "execution_count": 255,
   "metadata": {},
   "outputs": [],
   "source": [
    "cargo_data['Суммарный грузопоток'] = cargo_data.iloc[:, 2:].sum(axis=1).copy()"
   ]
  },
  {
   "cell_type": "markdown",
   "metadata": {},
   "source": [
    "### merge"
   ]
  },
  {
   "cell_type": "code",
   "execution_count": 256,
   "metadata": {
    "scrolled": false
   },
   "outputs": [],
   "source": [
    "p1 = airports_data[['Владелец', 'Наименование аэропорта РФ']].\\\n",
    "    merge(passenger_data[passenger_data['Год периода данных'] == 2018], \n",
    "          on='Наименование аэропорта РФ', how='left').iloc[:, [0, 1, -1]].copy()"
   ]
  },
  {
   "cell_type": "code",
   "execution_count": 257,
   "metadata": {},
   "outputs": [],
   "source": [
    "t3 = p1.merge(cargo_data[cargo_data['Год периода данных'] == 2018], \n",
    "         on='Наименование аэропорта РФ', how='left').iloc[:, [0, 1, 2, -1]].copy()"
   ]
  },
  {
   "cell_type": "code",
   "execution_count": 258,
   "metadata": {},
   "outputs": [],
   "source": [
    "t3.drop_duplicates(keep='first', subset=['Наименование аэропорта РФ',\n",
    "                                          \"Суммарный грузопоток\", \"Суммарный пасажиропоток\"], inplace=True)"
   ]
  },
  {
   "cell_type": "markdown",
   "metadata": {},
   "source": [
    "## T4\n",
    "\n",
    "Перечислите аэропорты, где пассажиропоток меньше медианы, а  грузопоток больше медианы"
   ]
  },
  {
   "cell_type": "code",
   "execution_count": 259,
   "metadata": {
    "scrolled": false
   },
   "outputs": [
    {
     "data": {
      "text/html": [
       "<div>\n",
       "<style scoped>\n",
       "    .dataframe tbody tr th:only-of-type {\n",
       "        vertical-align: middle;\n",
       "    }\n",
       "\n",
       "    .dataframe tbody tr th {\n",
       "        vertical-align: top;\n",
       "    }\n",
       "\n",
       "    .dataframe thead th {\n",
       "        text-align: right;\n",
       "    }\n",
       "</style>\n",
       "<table border=\"1\" class=\"dataframe\">\n",
       "  <thead>\n",
       "    <tr style=\"text-align: right;\">\n",
       "      <th></th>\n",
       "      <th>Владелец</th>\n",
       "      <th>Наименование аэропорта РФ</th>\n",
       "      <th>Суммарный пасажиропоток</th>\n",
       "      <th>Суммарный грузопоток</th>\n",
       "    </tr>\n",
       "  </thead>\n",
       "  <tbody>\n",
       "    <tr>\n",
       "      <th>46</th>\n",
       "      <td>ОАО «Аэропорт Мурманск»</td>\n",
       "      <td>Мурманск</td>\n",
       "      <td>713392.0</td>\n",
       "      <td>1287.50</td>\n",
       "    </tr>\n",
       "    <tr>\n",
       "      <th>50</th>\n",
       "      <td>ОАО  «Комиавиатранс»</td>\n",
       "      <td>Сыктывкар</td>\n",
       "      <td>446783.0</td>\n",
       "      <td>469.08</td>\n",
       "    </tr>\n",
       "    <tr>\n",
       "      <th>51</th>\n",
       "      <td>ОАО  «Комиавиатранс»</td>\n",
       "      <td>Воркута</td>\n",
       "      <td>17627.0</td>\n",
       "      <td>64.10</td>\n",
       "    </tr>\n",
       "    <tr>\n",
       "      <th>56</th>\n",
       "      <td>ОАО «Международный Аэропорт Иркутск»</td>\n",
       "      <td>Иркутск</td>\n",
       "      <td>1647187.0</td>\n",
       "      <td>6294.32</td>\n",
       "    </tr>\n",
       "    <tr>\n",
       "      <th>70</th>\n",
       "      <td>ОАО «Аэропорт Белоярский»</td>\n",
       "      <td>Белоярский</td>\n",
       "      <td>50291.0</td>\n",
       "      <td>63.50</td>\n",
       "    </tr>\n",
       "  </tbody>\n",
       "</table>\n",
       "</div>"
      ],
      "text/plain": [
       "                                  Владелец Наименование аэропорта РФ  \\\n",
       "46             ОАО «Аэропорт Мурманск»                      Мурманск   \n",
       "50                    ОАО  «Комиавиатранс»                 Сыктывкар   \n",
       "51                  ОАО  «Комиавиатранс»                     Воркута   \n",
       "56  ОАО «Международный Аэропорт Иркутск»                     Иркутск   \n",
       "70               ОАО «Аэропорт Белоярский»                Белоярский   \n",
       "\n",
       "    Суммарный пасажиропоток  Суммарный грузопоток  \n",
       "46                 713392.0               1287.50  \n",
       "50                 446783.0                469.08  \n",
       "51                  17627.0                 64.10  \n",
       "56                1647187.0               6294.32  \n",
       "70                  50291.0                 63.50  "
      ]
     },
     "execution_count": 259,
     "metadata": {},
     "output_type": "execute_result"
    }
   ],
   "source": [
    "res[(res['Суммарный грузопоток'] > res['Суммарный грузопоток'].median())].head()"
   ]
  },
  {
   "cell_type": "code",
   "execution_count": 260,
   "metadata": {},
   "outputs": [
    {
     "data": {
      "text/html": [
       "<div>\n",
       "<style scoped>\n",
       "    .dataframe tbody tr th:only-of-type {\n",
       "        vertical-align: middle;\n",
       "    }\n",
       "\n",
       "    .dataframe tbody tr th {\n",
       "        vertical-align: top;\n",
       "    }\n",
       "\n",
       "    .dataframe thead th {\n",
       "        text-align: right;\n",
       "    }\n",
       "</style>\n",
       "<table border=\"1\" class=\"dataframe\">\n",
       "  <thead>\n",
       "    <tr style=\"text-align: right;\">\n",
       "      <th></th>\n",
       "      <th>Владелец</th>\n",
       "      <th>Наименование аэропорта РФ</th>\n",
       "      <th>Суммарный пасажиропоток</th>\n",
       "      <th>Суммарный грузопоток</th>\n",
       "    </tr>\n",
       "  </thead>\n",
       "  <tbody>\n",
       "  </tbody>\n",
       "</table>\n",
       "</div>"
      ],
      "text/plain": [
       "Empty DataFrame\n",
       "Columns: [Владелец, Наименование аэропорта РФ, Суммарный пасажиропоток, Суммарный грузопоток]\n",
       "Index: []"
      ]
     },
     "execution_count": 260,
     "metadata": {},
     "output_type": "execute_result"
    }
   ],
   "source": [
    "res[(res['Суммарный пасажиропоток'] < res['Суммарный пасажиропоток'].median())]"
   ]
  },
  {
   "cell_type": "code",
   "execution_count": 261,
   "metadata": {},
   "outputs": [
    {
     "data": {
      "text/html": [
       "<div>\n",
       "<style scoped>\n",
       "    .dataframe tbody tr th:only-of-type {\n",
       "        vertical-align: middle;\n",
       "    }\n",
       "\n",
       "    .dataframe tbody tr th {\n",
       "        vertical-align: top;\n",
       "    }\n",
       "\n",
       "    .dataframe thead th {\n",
       "        text-align: right;\n",
       "    }\n",
       "</style>\n",
       "<table border=\"1\" class=\"dataframe\">\n",
       "  <thead>\n",
       "    <tr style=\"text-align: right;\">\n",
       "      <th></th>\n",
       "      <th>Владелец</th>\n",
       "      <th>Наименование аэропорта РФ</th>\n",
       "      <th>Суммарный пасажиропоток</th>\n",
       "      <th>Суммарный грузопоток</th>\n",
       "    </tr>\n",
       "  </thead>\n",
       "  <tbody>\n",
       "  </tbody>\n",
       "</table>\n",
       "</div>"
      ],
      "text/plain": [
       "Empty DataFrame\n",
       "Columns: [Владелец, Наименование аэропорта РФ, Суммарный пасажиропоток, Суммарный грузопоток]\n",
       "Index: []"
      ]
     },
     "execution_count": 261,
     "metadata": {},
     "output_type": "execute_result"
    }
   ],
   "source": [
    "res[(res['Суммарный грузопоток'] > res['Суммарный грузопоток'].median()) \n",
    "    & (res['Суммарный пасажиропоток'] < res['Суммарный пасажиропоток'].median())]"
   ]
  },
  {
   "cell_type": "markdown",
   "metadata": {},
   "source": [
    "### T5 \n",
    "\n",
    "Перечислите авиакомпании у которых нет типов воздушных судов зарегистрированных в России"
   ]
  },
  {
   "cell_type": "code",
   "execution_count": 262,
   "metadata": {},
   "outputs": [
    {
     "data": {
      "text/plain": [
       "True"
      ]
     },
     "execution_count": 262,
     "metadata": {},
     "output_type": "execute_result"
    }
   ],
   "source": [
    "aircraft_data.shape[0] == aircraft_data[(aircraft_data['Опознавательные знаки'].str.startswith('RA'))].shape[0]"
   ]
  },
  {
   "cell_type": "code",
   "execution_count": 263,
   "metadata": {},
   "outputs": [],
   "source": [
    "def plane_checker(plane_string:str) -> bool:\n",
    "    flag = True\n",
    "    plane_list = [plane_name[:-4].strip() for plane_name in plane_string.split(',')]\n",
    "    for plane in plane_list:\n",
    "        if plane in aircraft_data['Тип (наименование) воздушного судна'].values:\n",
    "            return False\n",
    "        else:\n",
    "            continue\n",
    "    return True"
   ]
  },
  {
   "cell_type": "code",
   "execution_count": 264,
   "metadata": {},
   "outputs": [],
   "source": [
    "airlines_data['Все самолеты не РФ'] =\\\n",
    "    airlines_data[airlines_data[\"Флотилия\"].notna()]['Флотилия'].astype('str').apply(plane_checker)"
   ]
  },
  {
   "cell_type": "code",
   "execution_count": 265,
   "metadata": {},
   "outputs": [
    {
     "data": {
      "text/plain": [
       "array(['Авиа Менеджмент Груп', 'Аврора', 'Ай Флай', 'АТРАН',\n",
       "       'Аэролимузин', 'Аэрофлот ОАО', 'ВИМ-АВИА', 'Джет Эйр Групп',\n",
       "       'ДОНАВИА', 'Икар ООО', 'Катэкавиа', 'Когалымавиа ООО', 'МАЦ',\n",
       "       'Меридиан', 'Нордавиа-регион.АЛ', 'Оренбургские АЛ ОАО', 'Победа',\n",
       "       'Россия Авиакомпания ОАО', 'РОЯЛ ФЛАЙТ', 'Северный Ветер',\n",
       "       'Сибирь', 'СИРИУС-АЭРО', 'Уральские авиалинии', 'ЭйрБриджКарго'],\n",
       "      dtype=object)"
      ]
     },
     "execution_count": 265,
     "metadata": {},
     "output_type": "execute_result"
    }
   ],
   "source": [
    "airlines_data[airlines_data['Все самолеты не РФ'] == True]['Название_короткое'].values"
   ]
  },
  {
   "cell_type": "markdown",
   "metadata": {},
   "source": [
    "## T6\n",
    "\n",
    "Выведите список: Месяц, суммарный пассажиропоток за данный месяц, аэропорт в котором пассажиропоток в данном месяце максимальный"
   ]
  },
  {
   "cell_type": "code",
   "execution_count": 266,
   "metadata": {},
   "outputs": [],
   "source": [
    "best_port = []\n",
    "for column in passenger_data.columns[2:-1]:\n",
    "    best_port.append(passenger_data.loc[(passenger_data['Год периода данных'] == 2018) &\n",
    "                       (passenger_data[column] == passenger_data[column].max())]['Наименование аэропорта РФ'].values)"
   ]
  },
  {
   "cell_type": "code",
   "execution_count": 267,
   "metadata": {},
   "outputs": [
    {
     "data": {
      "text/html": [
       "<div>\n",
       "<style scoped>\n",
       "    .dataframe tbody tr th:only-of-type {\n",
       "        vertical-align: middle;\n",
       "    }\n",
       "\n",
       "    .dataframe tbody tr th {\n",
       "        vertical-align: top;\n",
       "    }\n",
       "\n",
       "    .dataframe thead th {\n",
       "        text-align: right;\n",
       "    }\n",
       "</style>\n",
       "<table border=\"1\" class=\"dataframe\">\n",
       "  <thead>\n",
       "    <tr style=\"text-align: right;\">\n",
       "      <th></th>\n",
       "      <th>Cуммарный пассажиропоток</th>\n",
       "      <th>Аэропорт</th>\n",
       "    </tr>\n",
       "  </thead>\n",
       "  <tbody>\n",
       "    <tr>\n",
       "      <th>Январь</th>\n",
       "      <td>11975195</td>\n",
       "      <td>[Москва(Шереметьево)]</td>\n",
       "    </tr>\n",
       "    <tr>\n",
       "      <th>Февраль</th>\n",
       "      <td>10735375</td>\n",
       "      <td>[Москва(Шереметьево)]</td>\n",
       "    </tr>\n",
       "    <tr>\n",
       "      <th>Март</th>\n",
       "      <td>12395277</td>\n",
       "      <td>[Москва(Шереметьево)]</td>\n",
       "    </tr>\n",
       "    <tr>\n",
       "      <th>Апрель</th>\n",
       "      <td>13333555</td>\n",
       "      <td>[Москва(Шереметьево)]</td>\n",
       "    </tr>\n",
       "    <tr>\n",
       "      <th>Май</th>\n",
       "      <td>15059520</td>\n",
       "      <td>[Москва(Шереметьево)]</td>\n",
       "    </tr>\n",
       "    <tr>\n",
       "      <th>Июнь</th>\n",
       "      <td>18170319</td>\n",
       "      <td>[Москва(Шереметьево)]</td>\n",
       "    </tr>\n",
       "    <tr>\n",
       "      <th>Июль</th>\n",
       "      <td>20333167</td>\n",
       "      <td>[Москва(Шереметьево)]</td>\n",
       "    </tr>\n",
       "    <tr>\n",
       "      <th>Август</th>\n",
       "      <td>20693339</td>\n",
       "      <td>[Москва(Шереметьево)]</td>\n",
       "    </tr>\n",
       "    <tr>\n",
       "      <th>Сентябрь</th>\n",
       "      <td>18544868</td>\n",
       "      <td>[Москва(Шереметьево)]</td>\n",
       "    </tr>\n",
       "    <tr>\n",
       "      <th>Октябрь</th>\n",
       "      <td>0</td>\n",
       "      <td>[]</td>\n",
       "    </tr>\n",
       "    <tr>\n",
       "      <th>Ноябрь</th>\n",
       "      <td>0</td>\n",
       "      <td>[]</td>\n",
       "    </tr>\n",
       "    <tr>\n",
       "      <th>Декабрь</th>\n",
       "      <td>0</td>\n",
       "      <td>[]</td>\n",
       "    </tr>\n",
       "  </tbody>\n",
       "</table>\n",
       "</div>"
      ],
      "text/plain": [
       "          Cуммарный пассажиропоток               Аэропорт\n",
       "Январь                    11975195  [Москва(Шереметьево)]\n",
       "Февраль                   10735375  [Москва(Шереметьево)]\n",
       "Март                      12395277  [Москва(Шереметьево)]\n",
       "Апрель                    13333555  [Москва(Шереметьево)]\n",
       "Май                       15059520  [Москва(Шереметьево)]\n",
       "Июнь                      18170319  [Москва(Шереметьево)]\n",
       "Июль                      20333167  [Москва(Шереметьево)]\n",
       "Август                    20693339  [Москва(Шереметьево)]\n",
       "Сентябрь                  18544868  [Москва(Шереметьево)]\n",
       "Октябрь                          0                     []\n",
       "Ноябрь                           0                     []\n",
       "Декабрь                          0                     []"
      ]
     },
     "execution_count": 267,
     "metadata": {},
     "output_type": "execute_result"
    }
   ],
   "source": [
    "res = pd.DataFrame(passenger_data[passenger_data['Год периода данных'] == 2018].iloc[:,2:-1].sum(axis=0), \n",
    "             columns=['Cуммарный пассажиропоток']).copy()\n",
    "res['Аэропорт'] = best_port\n",
    "res"
   ]
  },
  {
   "cell_type": "markdown",
   "metadata": {},
   "source": [
    "## T7\n",
    "\n",
    "Выведите список: Тип аэропорта, средний грузопоток в месяц в аэропортах данного типа "
   ]
  },
  {
   "cell_type": "code",
   "execution_count": 268,
   "metadata": {},
   "outputs": [],
   "source": [
    "airports_data['Тип'] = airports_data['Тип'].str.strip().str.replace(' ', '')"
   ]
  },
  {
   "cell_type": "code",
   "execution_count": 269,
   "metadata": {},
   "outputs": [],
   "source": [
    "port_dict = {}\n",
    "for port_type in airports_data['Тип'].unique():\n",
    "    port_dict[port_type] = airports_data[airports_data['Тип'] == port_type]['Наименование аэропорта РФ'].values"
   ]
  },
  {
   "cell_type": "code",
   "execution_count": 270,
   "metadata": {},
   "outputs": [],
   "source": [
    "# Используем датафрейм из T3\n",
    "# Суммарный грузопоток за год по все аэропортам --> \n",
    "# --> Средний грузопоток за год -(делим на кол-во месяцев)-> Средний грузопоток за месяц \n",
    "\n",
    "for key in port_dict: \n",
    "    port_dict[key] =t3[t3['Наименование аэропорта РФ'].isin(port_dict.get(key))]['Суммарный грузопоток'].mean()/12"
   ]
  },
  {
   "cell_type": "code",
   "execution_count": 271,
   "metadata": {},
   "outputs": [
    {
     "data": {
      "text/html": [
       "<div>\n",
       "<style scoped>\n",
       "    .dataframe tbody tr th:only-of-type {\n",
       "        vertical-align: middle;\n",
       "    }\n",
       "\n",
       "    .dataframe tbody tr th {\n",
       "        vertical-align: top;\n",
       "    }\n",
       "\n",
       "    .dataframe thead th {\n",
       "        text-align: right;\n",
       "    }\n",
       "</style>\n",
       "<table border=\"1\" class=\"dataframe\">\n",
       "  <thead>\n",
       "    <tr style=\"text-align: right;\">\n",
       "      <th></th>\n",
       "      <th>Средний грузопоток в месяц</th>\n",
       "    </tr>\n",
       "  </thead>\n",
       "  <tbody>\n",
       "    <tr>\n",
       "      <th>В</th>\n",
       "      <td>29.257500</td>\n",
       "    </tr>\n",
       "    <tr>\n",
       "      <th>Г</th>\n",
       "      <td>1.126694</td>\n",
       "    </tr>\n",
       "    <tr>\n",
       "      <th>Е</th>\n",
       "      <td>0.031667</td>\n",
       "    </tr>\n",
       "    <tr>\n",
       "      <th>А</th>\n",
       "      <td>41.462222</td>\n",
       "    </tr>\n",
       "    <tr>\n",
       "      <th>Д</th>\n",
       "      <td>0.089167</td>\n",
       "    </tr>\n",
       "    <tr>\n",
       "      <th>Б</th>\n",
       "      <td>120.467917</td>\n",
       "    </tr>\n",
       "    <tr>\n",
       "      <th>Б-1</th>\n",
       "      <td>NaN</td>\n",
       "    </tr>\n",
       "    <tr>\n",
       "      <th>В-1</th>\n",
       "      <td>NaN</td>\n",
       "    </tr>\n",
       "    <tr>\n",
       "      <th>А-2</th>\n",
       "      <td>14.908333</td>\n",
       "    </tr>\n",
       "    <tr>\n",
       "      <th>А-1</th>\n",
       "      <td>NaN</td>\n",
       "    </tr>\n",
       "    <tr>\n",
       "      <th>Б(горный)</th>\n",
       "      <td>106.179583</td>\n",
       "    </tr>\n",
       "    <tr>\n",
       "      <th>B</th>\n",
       "      <td>NaN</td>\n",
       "    </tr>\n",
       "    <tr>\n",
       "      <th>Е(горный)</th>\n",
       "      <td>0.636667</td>\n",
       "    </tr>\n",
       "    <tr>\n",
       "      <th>Г(горный)</th>\n",
       "      <td>0.000000</td>\n",
       "    </tr>\n",
       "  </tbody>\n",
       "</table>\n",
       "</div>"
      ],
      "text/plain": [
       "           Средний грузопоток в месяц\n",
       "В                           29.257500\n",
       "Г                            1.126694\n",
       "Е                            0.031667\n",
       "А                           41.462222\n",
       "Д                            0.089167\n",
       "Б                          120.467917\n",
       "Б-1                               NaN\n",
       "В-1                               NaN\n",
       "А-2                         14.908333\n",
       "А-1                               NaN\n",
       "Б(горный)                  106.179583\n",
       "B                                 NaN\n",
       "Е(горный)                    0.636667\n",
       "Г(горный)                    0.000000"
      ]
     },
     "execution_count": 271,
     "metadata": {},
     "output_type": "execute_result"
    }
   ],
   "source": [
    "pd.DataFrame.from_dict(port_dict, orient='index', columns=['Средний грузопоток в месяц'])"
   ]
  }
 ],
 "metadata": {
  "kernelspec": {
   "display_name": "Python 3",
   "language": "python",
   "name": "python3"
  },
  "language_info": {
   "codemirror_mode": {
    "name": "ipython",
    "version": 3
   },
   "file_extension": ".py",
   "mimetype": "text/x-python",
   "name": "python",
   "nbconvert_exporter": "python",
   "pygments_lexer": "ipython3",
   "version": "3.6.9"
  }
 },
 "nbformat": 4,
 "nbformat_minor": 2
}
