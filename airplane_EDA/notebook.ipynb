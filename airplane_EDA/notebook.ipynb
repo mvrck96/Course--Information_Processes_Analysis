{
 "cells": [
  {
   "cell_type": "markdown",
   "metadata": {},
   "source": [
    "__TODO:__\n",
    "1. Постройте список уникальных типов самолетов зарегистрированных в России\n",
    "2. Какой тип самолета имеет самую раннюю дату выдачи сертификата?\n",
    "3. Постройте запрос: Владелец аэропорта, Аэропорт, Пассажиропоток суммарный за 2018 год, Грузопоток суммарный за 2018 год\n",
    "4. Перечислите аэропорты, где пассажиропоток меньше медианы, а  грузопоток больше медианы\n",
    "5. Перечислите авиакомпании у которых нет типов воздушных судов зарегистрированных в России\n",
    "6. Выведите список: Месяц, суммарный пассажиропоток за данный месяц, аэропорт в котором пассажиропоток в данном месяце максимальный\n",
    "7. Выведите список: Тип аэропорта, средний грузопоток в месяц в аэропортах данного типа\n",
    "\n",
    "__NOTE:__ Везде где не указан конкретный временной промежуток или другим образом не указано время был взят 2018 год (последний год достпуный в даных)"
   ]
  },
  {
   "cell_type": "code",
   "execution_count": null,
   "metadata": {},
   "outputs": [],
   "source": [
    "import pandas as pd\n",
    "from itertools import chain"
   ]
  },
  {
   "cell_type": "code",
   "execution_count": null,
   "metadata": {},
   "outputs": [],
   "source": [
    "aircraft_data = pd.read_csv('https://raw.githubusercontent.com/sudakov/lab_it/master/aircraft.csv',\n",
    "                            sep=';', parse_dates = ['дата действующего свидетельства о регистрации'])"
   ]
  },
  {
   "cell_type": "code",
   "execution_count": null,
   "metadata": {},
   "outputs": [],
   "source": [
    "airlines_data = pd.read_csv('https://raw.githubusercontent.com/sudakov/lab_it/master/airlines.csv', \n",
    "                            names=['Название_короткое', \"Название_полное\", \"Аэропорт\", \"Флотилия\"])"
   ]
  },
  {
   "cell_type": "code",
   "execution_count": null,
   "metadata": {},
   "outputs": [],
   "source": [
    "airports_data = pd.read_csv('https://raw.githubusercontent.com/sudakov/lab_it/master/airports.csv', \n",
    "                            names=['Аэропорт', 'Сертификат', \"Владелец\", \"Тип\"])"
   ]
  },
  {
   "cell_type": "code",
   "execution_count": null,
   "metadata": {},
   "outputs": [],
   "source": [
    "cargo_data = pd.read_csv('https://raw.githubusercontent.com/sudakov/lab_it/master/cargo%20transportation.csv', \n",
    "                         sep=';', na_values='***', dtype='str')\n",
    "# Proper way\n",
    "# cargo = pd.read_csv('cargo transportation.csv', sep=';', thousands = ' ', decimal = ',', na_values = ['***'])"
   ]
  },
  {
   "cell_type": "code",
   "execution_count": null,
   "metadata": {},
   "outputs": [],
   "source": [
    "passenger_data = pd.read_csv('https://raw.githubusercontent.com/sudakov/lab_it/master/passenger%20'\\\n",
    "                             'transportation.csv', sep=';', na_values='***', dtype='str') "
   ]
  },
  {
   "cell_type": "markdown",
   "metadata": {},
   "source": [
    "---"
   ]
  },
  {
   "cell_type": "markdown",
   "metadata": {},
   "source": [
    "## T1\n",
    "\n",
    "Постройте список уникальных типов самолетов зарегистрированных в России"
   ]
  },
  {
   "cell_type": "code",
   "execution_count": null,
   "metadata": {},
   "outputs": [],
   "source": [
    "aircraft_data[(aircraft_data['Вид воздушного судна'] == 'самолет') &\n",
    "              (aircraft_data['Опознавательные знаки'].str.startswith('RA'))]\\\n",
    "                ['Тип (наименование) воздушного судна'].unique()"
   ]
  },
  {
   "cell_type": "markdown",
   "metadata": {},
   "source": [
    "## T2\n",
    "\n",
    "Какой тип самолета имеет самую раннюю дату выдачи сертификата?"
   ]
  },
  {
   "cell_type": "code",
   "execution_count": null,
   "metadata": {},
   "outputs": [],
   "source": [
    "aircraft_data[aircraft_data['дата действующего свидетельства о регистрации'] ==\n",
    "              aircraft_data['дата действующего свидетельства о регистрации'].min()]\\\n",
    "                ['Тип (наименование) воздушного судна']"
   ]
  },
  {
   "cell_type": "markdown",
   "metadata": {},
   "source": [
    "## T3\n",
    "\n",
    "Постройте запрос: Владелец аэропорта, Аэропорт, Пассажиропоток суммарный за 2018 год, Грузопоток суммарный за 2018 год"
   ]
  },
  {
   "cell_type": "markdown",
   "metadata": {},
   "source": [
    "### airports_data preparation"
   ]
  },
  {
   "cell_type": "code",
   "execution_count": null,
   "metadata": {},
   "outputs": [],
   "source": [
    "airports_data['Наименование аэропорта РФ'] =\\\n",
    "    airports_data['Аэропорт'].astype('str').apply(lambda x: x.strip().split()[0])"
   ]
  },
  {
   "cell_type": "markdown",
   "metadata": {},
   "source": [
    "### passenger_data preparation"
   ]
  },
  {
   "cell_type": "code",
   "execution_count": null,
   "metadata": {},
   "outputs": [],
   "source": [
    "passenger_data.drop(columns=['Январь - Декабрь'], inplace=True)\n",
    "passenger_data.fillna(0, inplace=True)"
   ]
  },
  {
   "cell_type": "code",
   "execution_count": null,
   "metadata": {},
   "outputs": [],
   "source": [
    "for column in passenger_data.columns[1:]:\n",
    "    passenger_data[column] = passenger_data[column].astype('str').apply(lambda x: int(x.replace(' ', '')))"
   ]
  },
  {
   "cell_type": "code",
   "execution_count": null,
   "metadata": {},
   "outputs": [],
   "source": [
    "passenger_data['Суммарный пасажиропоток'] = passenger_data.iloc[:, 2:].sum(axis=1).copy()"
   ]
  },
  {
   "cell_type": "markdown",
   "metadata": {},
   "source": [
    "### cargo_data preparation"
   ]
  },
  {
   "cell_type": "code",
   "execution_count": null,
   "metadata": {},
   "outputs": [],
   "source": [
    "cargo_data['Год периода данных'] = cargo_data['Год периода данных'].apply(lambda x: int(x.replace(' ', '')))"
   ]
  },
  {
   "cell_type": "code",
   "execution_count": null,
   "metadata": {},
   "outputs": [],
   "source": [
    "cargo_data.drop(columns=['Январь - Декабрь'], inplace=True)\n",
    "cargo_data.fillna(0, inplace=True)"
   ]
  },
  {
   "cell_type": "code",
   "execution_count": null,
   "metadata": {},
   "outputs": [],
   "source": [
    "for column in cargo_data.columns[2:]:\n",
    "    cargo_data[column] = cargo_data[column].astype('str').apply(lambda x: float(x.replace(',', '.').replace(' ', '')))"
   ]
  },
  {
   "cell_type": "code",
   "execution_count": null,
   "metadata": {},
   "outputs": [],
   "source": [
    "cargo_data['Суммарный грузопоток'] = cargo_data.iloc[:, 2:].sum(axis=1).copy()"
   ]
  },
  {
   "cell_type": "markdown",
   "metadata": {},
   "source": [
    "### merge"
   ]
  },
  {
   "cell_type": "code",
   "execution_count": null,
   "metadata": {
    "scrolled": false
   },
   "outputs": [],
   "source": [
    "p1 = airports_data[['Владелец', 'Наименование аэропорта РФ']].\\\n",
    "    merge(passenger_data[passenger_data['Год периода данных'] == 2018], \n",
    "          on='Наименование аэропорта РФ', how='left').iloc[:, [0, 1, -1]].copy()"
   ]
  },
  {
   "cell_type": "code",
   "execution_count": null,
   "metadata": {},
   "outputs": [],
   "source": [
    "t3 = p1.merge(cargo_data[cargo_data['Год периода данных'] == 2018], \n",
    "         on='Наименование аэропорта РФ', how='left').iloc[:, [0, 1, 2, -1]].copy()"
   ]
  },
  {
   "cell_type": "code",
   "execution_count": null,
   "metadata": {},
   "outputs": [],
   "source": [
    "t3.drop_duplicates(keep='first', subset=['Наименование аэропорта РФ',\n",
    "                                          \"Суммарный грузопоток\", \"Суммарный пасажиропоток\"], inplace=True)"
   ]
  },
  {
   "cell_type": "markdown",
   "metadata": {},
   "source": [
    "## T4\n",
    "\n",
    "Перечислите аэропорты, где пассажиропоток меньше медианы, а  грузопоток больше медианы"
   ]
  },
  {
   "cell_type": "code",
   "execution_count": null,
   "metadata": {
    "scrolled": false
   },
   "outputs": [],
   "source": [
    "res[(res['Суммарный грузопоток'] > res['Суммарный грузопоток'].median())].head()"
   ]
  },
  {
   "cell_type": "code",
   "execution_count": null,
   "metadata": {},
   "outputs": [],
   "source": [
    "res[(res['Суммарный пасажиропоток'] < res['Суммарный пасажиропоток'].median())]"
   ]
  },
  {
   "cell_type": "code",
   "execution_count": null,
   "metadata": {},
   "outputs": [],
   "source": [
    "res[(res['Суммарный грузопоток'] > res['Суммарный грузопоток'].median()) \n",
    "    & (res['Суммарный пасажиропоток'] < res['Суммарный пасажиропоток'].median())]"
   ]
  },
  {
   "cell_type": "markdown",
   "metadata": {},
   "source": [
    "### T5 \n",
    "\n",
    "Перечислите авиакомпании у которых нет типов воздушных судов зарегистрированных в России"
   ]
  },
  {
   "cell_type": "code",
   "execution_count": null,
   "metadata": {},
   "outputs": [],
   "source": [
    "aircraft_data.shape[0] == aircraft_data[(aircraft_data['Опознавательные знаки'].str.startswith('RA'))].shape[0]"
   ]
  },
  {
   "cell_type": "code",
   "execution_count": null,
   "metadata": {},
   "outputs": [],
   "source": [
    "def plane_checker(plane_string:str) -> bool:\n",
    "    flag = True\n",
    "    plane_list = [plane_name[:-4].strip() for plane_name in plane_string.split(',')]\n",
    "    for plane in plane_list:\n",
    "        if plane in aircraft_data['Тип (наименование) воздушного судна'].values:\n",
    "            return False\n",
    "        else:\n",
    "            continue\n",
    "    return True"
   ]
  },
  {
   "cell_type": "code",
   "execution_count": null,
   "metadata": {},
   "outputs": [],
   "source": [
    "airlines_data['Все самолеты не РФ'] =\\\n",
    "    airlines_data[airlines_data[\"Флотилия\"].notna()]['Флотилия'].astype('str').apply(plane_checker)"
   ]
  },
  {
   "cell_type": "code",
   "execution_count": null,
   "metadata": {},
   "outputs": [],
   "source": [
    "airlines_data[airlines_data['Все самолеты не РФ'] == True]['Название_короткое'].values"
   ]
  },
  {
   "cell_type": "markdown",
   "metadata": {},
   "source": [
    "## T6\n",
    "\n",
    "Выведите список: Месяц, суммарный пассажиропоток за данный месяц, аэропорт в котором пассажиропоток в данном месяце максимальный"
   ]
  },
  {
   "cell_type": "code",
   "execution_count": null,
   "metadata": {},
   "outputs": [],
   "source": [
    "best_port = []\n",
    "for column in passenger_data.columns[2:-1]:\n",
    "    best_port.append(passenger_data.loc[(passenger_data['Год периода данных'] == 2018) &\n",
    "                       (passenger_data[column] == passenger_data[column].max())]['Наименование аэропорта РФ'].values)"
   ]
  },
  {
   "cell_type": "code",
   "execution_count": null,
   "metadata": {},
   "outputs": [],
   "source": [
    "res = pd.DataFrame(passenger_data[passenger_data['Год периода данных'] == 2018].iloc[:,2:-1].sum(axis=0), \n",
    "             columns=['Cуммарный пассажиропоток']).copy()\n",
    "res['Аэропорт'] = best_port\n",
    "res"
   ]
  },
  {
   "cell_type": "markdown",
   "metadata": {},
   "source": [
    "## T7\n",
    "\n",
    "Выведите список: Тип аэропорта, средний грузопоток в месяц в аэропортах данного типа "
   ]
  },
  {
   "cell_type": "code",
   "execution_count": null,
   "metadata": {},
   "outputs": [],
   "source": [
    "airports_data['Тип'] = airports_data['Тип'].str.strip().str.replace(' ', '')"
   ]
  },
  {
   "cell_type": "code",
   "execution_count": null,
   "metadata": {},
   "outputs": [],
   "source": [
    "port_dict = {}\n",
    "for port_type in airports_data['Тип'].unique():\n",
    "    port_dict[port_type] = airports_data[airports_data['Тип'] == port_type]['Наименование аэропорта РФ'].values"
   ]
  },
  {
   "cell_type": "code",
   "execution_count": null,
   "metadata": {},
   "outputs": [],
   "source": [
    "# Используем датафрейм из T3\n",
    "# Суммарный грузопоток за год по все аэропортам --> \n",
    "# --> Средний грузопоток за год -(делим на кол-во месяцев)-> Средний грузопоток за месяц \n",
    "\n",
    "for key in port_dict: \n",
    "    port_dict[key] =t3[t3['Наименование аэропорта РФ'].isin(port_dict.get(key))]['Суммарный грузопоток'].mean()/12"
   ]
  },
  {
   "cell_type": "code",
   "execution_count": null,
   "metadata": {},
   "outputs": [],
   "source": [
    "pd.DataFrame.from_dict(port_dict, orient='index', columns=['Средний грузопоток в месяц'])"
   ]
  }
 ],
 "metadata": {
  "kernelspec": {
   "display_name": "Python 3",
   "language": "python",
   "name": "python3"
  },
  "language_info": {
   "codemirror_mode": {
    "name": "ipython",
    "version": 3
   },
   "file_extension": ".py",
   "mimetype": "text/x-python",
   "name": "python",
   "nbconvert_exporter": "python",
   "pygments_lexer": "ipython3",
   "version": "3.6.9"
  }
 },
 "nbformat": 4,
 "nbformat_minor": 2
}
